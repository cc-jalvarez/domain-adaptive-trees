{
 "cells": [
  {
   "cell_type": "code",
   "execution_count": 1,
   "id": "2fb6f13f",
   "metadata": {},
   "outputs": [],
   "source": [
    "%load_ext autoreload\n",
    "%autoreload 2\n",
    "%matplotlib inline\n",
    "\n",
    "# global imports\n",
    "import sys\n",
    "import time\n",
    "import pickle\n",
    "import matplotlib.pyplot as plt\n",
    "from matplotlib.colors import TwoSlopeNorm\n",
    "import numpy as np\n",
    "import warnings\n",
    "warnings.simplefilter(action='ignore', category=FutureWarning)\n",
    "\n",
    "# local imports\n",
    "import utils\n",
    "from utils import cm_metrics\n",
    "from experiments import run_test\n",
    "\n",
    "# general settings  \n",
    "plt.style.use('seaborn-whitegrid')\n",
    "plt.rc('font', size=14)\n",
    "plt.rc('legend', fontsize=14)\n",
    "plt.rc('lines', linewidth=2)\n",
    "plt.rc('axes', linewidth=2)\n",
    "plt.rc('axes', edgecolor='k')\n",
    "plt.rc('xtick.major', width=2)\n",
    "plt.rc('xtick.major', size=6)\n",
    "plt.rc('ytick.major', width=2)\n",
    "plt.rc('ytick.major', size=6)\n",
    "plt.rc('pdf', fonttype=42)\n",
    "plt.rc('ps', fonttype=42)"
   ]
  },
  {
   "cell_type": "code",
   "execution_count": 6,
   "id": "3d968422",
   "metadata": {
    "scrolled": true
   },
   "outputs": [
    {
     "name": "stdout",
     "output_type": "stream",
     "text": [
      "Attributes ['SCHL', 'MAR', 'AGEP', 'SEX', 'CIT', 'RAC1P']\n",
      "No States 50\n",
      "AK AL AR AZ CA CO CT DE FL GA HI IA ID IL IN KS KY LA MA MD ME MI MN MO MS MT NC ND NE NH NJ NM NV NY OH OK OR PA RI SC SD TN TX UT VA VT WA WI WV WY Wall time: 2min 4s\n"
     ]
    }
   ],
   "source": [
    "%%time\n",
    "# subset of attributes\n",
    "attributes = utils.get_attributes('subset1')\n",
    "print('Attributes', attributes)\n",
    "states = utils.states\n",
    "nstates = len(states)\n",
    "print('No States', nstates)\n",
    "\n",
    "# load distances (see 01_CalculateDistances.ipynb)\n",
    "dists = pickle.load( open(\"results/distances.pkl\", \"rb\" ) )\n",
    "# restrict to subset and states\n",
    "dists = { k:{att:d for att, d in v.items() if att in attributes} for k, v in dists.items() if k[0] in states and k[1] in states and k[0] != k[1]}\n",
    "\n",
    "# load data\n",
    "X_train_s, X_test_s, y_train_s, y_test_s, X_train_t, X_test_t, y_train_t, y_test_t = utils.load_ACSPublicCoverage(attributes, states)"
   ]
  },
  {
   "cell_type": "code",
   "execution_count": 15,
   "id": "e6d5ef1e",
   "metadata": {
    "scrolled": true
   },
   "outputs": [
    {
     "name": "stdout",
     "output_type": "stream",
     "text": [
      "att_xw SEX\n"
     ]
    },
    {
     "data": {
      "text/plain": [
       "[('SCHL', 0.09430977740840138, 0.0945665713757643),\n",
       " ('MAR', 0.08149840055558766, 0.0603242820532249),\n",
       " ('AGEP', 0.07759983660222014, 0.06311084562224045),\n",
       " ('SEX', 0.07598000753010795, 0.07598000753010789),\n",
       " ('CIT', 0.0880482163035855, 0.09012550000573281),\n",
       " ('RAC1P', 0.11274269312258639, 0.11982475732494548)]"
      ]
     },
     "execution_count": 15,
     "metadata": {},
     "output_type": "execute_result"
    }
   ],
   "source": [
    "# parameters\n",
    "source = 'AL'\n",
    "target = 'OR'\n",
    "# decision tree parameter\n",
    "max_depth = 8\n",
    "min_pct = 0.05 # percentage of cases, not absolute number\n",
    "_dict = dists[(source, target)]\n",
    "att_xw = min(_dict, key=lambda k: _dict[k]['d_y_cond_est']) # usage as in the paper Eq. 13\n",
    "#att_xw = 'MAR' # alternatively, direct setting\n",
    "print('att_xw', att_xw)\n",
    "maxdepth_td = max_depth\n",
    "fairness_metric = None # or 'true_positive_rate_parity' #'demographic_parity'\n",
    "# derived parameters\n",
    "size = len(X_train_s[source])\n",
    "min_cases = int(size*min_pct)\n",
    "# output distances (for debug purposes)\n",
    "[(c, dists[(source, target)][c]['d_y_cond_est'], dists[(source, target)][c]['d_y_cond']) for c in attributes]"
   ]
  },
  {
   "cell_type": "code",
   "execution_count": 38,
   "id": "fd83a5b5",
   "metadata": {},
   "outputs": [
    {
     "name": "stdout",
     "output_type": "stream",
     "text": [
      "Wall time: 1.38 s\n"
     ]
    }
   ],
   "source": [
    "%%time\n",
    "# train on target, test on target\n",
    "clf_t, cm_t, cm_unprotected_t, cm_protected_t = run_test(X_train_s[target], y_train_s[target], X_test_t[target], \n",
    "    y_test_t[target], X_td=None, max_depth=max_depth, min_cases=int(len(X_train_s[target])*min_pct), fairness_metric=fairness_metric)"
   ]
  },
  {
   "cell_type": "code",
   "execution_count": 39,
   "id": "009a3a25",
   "metadata": {},
   "outputs": [
    {
     "name": "stdout",
     "output_type": "stream",
     "text": [
      "cm [[2057  351]\n",
      " [ 760  501]]\n",
      "cm_unprotected [[820 169]\n",
      " [336 250]]\n",
      "cm_protected [[1237  182]\n",
      " [ 424  251]]\n",
      "acc 0.6971926955573726\n",
      "dp 0.05925046618456359\n",
      "eop 0.054769308557704455\n"
     ]
    }
   ],
   "source": [
    "print('cm', cm_t)\n",
    "print('cm_unprotected', cm_unprotected_t)\n",
    "print('cm_protected', cm_protected_t)\n",
    "print('acc', cm_metrics(cm_t)[0])\n",
    "print('dp', cm_metrics(cm_unprotected_t)[4] - cm_metrics(cm_protected_t)[4])\n",
    "print('eop', cm_metrics(cm_unprotected_t)[1] - cm_metrics(cm_protected_t)[1])"
   ]
  },
  {
   "cell_type": "code",
   "execution_count": 40,
   "id": "9e47e152",
   "metadata": {},
   "outputs": [
    {
     "name": "stdout",
     "output_type": "stream",
     "text": [
      "Wall time: 1.6 s\n"
     ]
    }
   ],
   "source": [
    "%%time\n",
    "# train on source, test on target without domain adaptation\n",
    "clf_s, cm_s, cm_unprotected_s, cm_protected_s = run_test(X_train_s[source], y_train_s[source], X_test_t[target], \n",
    "    y_test_t[target], max_depth=max_depth, min_cases=min_cases, fairness_metric=fairness_metric,\n",
    "    X_td=X_train_t[target], y_td=y_train_t[target]) # X_td and y_td only to compute w_dist() "
   ]
  },
  {
   "cell_type": "code",
   "execution_count": 41,
   "id": "f2c38fac",
   "metadata": {},
   "outputs": [
    {
     "name": "stdout",
     "output_type": "stream",
     "text": [
      "cm [[2276  132]\n",
      " [1056  205]]\n",
      "cm_unprotected [[934  55]\n",
      " [481 105]]\n",
      "cm_protected [[1342   77]\n",
      " [ 575  100]]\n",
      "acc 0.6762060506950123\n",
      "dp 0.017060080956929097\n",
      "eop 0.031032739223865513\n"
     ]
    }
   ],
   "source": [
    "print('cm', cm_s)\n",
    "print('cm_unprotected', cm_unprotected_s)\n",
    "print('cm_protected', cm_protected_s)\n",
    "print('acc', cm_metrics(cm_s)[0])\n",
    "print('dp', cm_metrics(cm_unprotected_s)[4] - cm_metrics(cm_protected_s)[4])\n",
    "print('eop', cm_metrics(cm_unprotected_s)[1] - cm_metrics(cm_protected_s)[1])"
   ]
  },
  {
   "cell_type": "code",
   "execution_count": 42,
   "id": "5146b6d1",
   "metadata": {
    "scrolled": true
   },
   "outputs": [
    {
     "name": "stdout",
     "output_type": "stream",
     "text": [
      "Wall time: 3.72 s\n"
     ]
    }
   ],
   "source": [
    "%%time\n",
    "# train on source, test on target, with domain adaptation\n",
    "clf_da, cm_da, cm_unprotected_da, cm_protected_da = run_test(X_train_s[source], y_train_s[source], X_test_t[target], \n",
    "    y_test_t[target], max_depth=max_depth, min_cases=min_cases, fairness_metric=fairness_metric,\n",
    "    da=True, X_td=X_train_t[target], y_td=y_train_t[target], att_xw =att_xw, maxdepth_td=maxdepth_td)"
   ]
  },
  {
   "cell_type": "code",
   "execution_count": 43,
   "id": "de6b551a",
   "metadata": {},
   "outputs": [
    {
     "name": "stdout",
     "output_type": "stream",
     "text": [
      "cm [[2283  125]\n",
      " [1063  198]]\n",
      "cm_unprotected [[939  50]\n",
      " [483 103]]\n",
      "cm_protected [[1344   75]\n",
      " [ 580   95]]\n",
      "acc 0.6762060506950123\n",
      "dp 0.015958520944194296\n",
      "eop 0.03502717734799646\n"
     ]
    }
   ],
   "source": [
    "print('cm', cm_da)\n",
    "print('cm_unprotected', cm_unprotected_da)\n",
    "print('cm_protected', cm_protected_da)\n",
    "print('acc', cm_metrics(cm_da)[0])\n",
    "print('dp', cm_metrics(cm_unprotected_da)[4] - cm_metrics(cm_protected_da)[4])\n",
    "print('eop', cm_metrics(cm_unprotected_da)[1] - cm_metrics(cm_protected_da)[1])"
   ]
  },
  {
   "cell_type": "code",
   "execution_count": 46,
   "id": "349822f9",
   "metadata": {
    "scrolled": true
   },
   "outputs": [
    {
     "data": {
      "text/plain": [
       "{'type': 'split',\n",
       " 'gain': 0.021032382642826253,\n",
       " 'split_col': 'MAR',\n",
       " 'cutoff': 3.0,\n",
       " 'tot': 11004,\n",
       " 'dist': array([0.64930934, 0.35069066]),\n",
       " 'left': {'type': 'split',\n",
       "  'gain': 0.02162465177084877,\n",
       "  'split_col': 'AGEP',\n",
       "  'cutoff': 53.0,\n",
       "  'tot': 1181,\n",
       "  'dist': array([0.4081287, 0.5918713]),\n",
       "  'left': {'type': 'leaf',\n",
       "   'tot': 610,\n",
       "   'dist': array([0.49016393, 0.50983607])},\n",
       "  'right': {'type': 'leaf',\n",
       "   'tot': 571,\n",
       "   'dist': array([0.32049037, 0.67950963])}},\n",
       " 'right': {'type': 'split',\n",
       "  'gain': 0.012607475267715884,\n",
       "  'split_col': 'MAR',\n",
       "  'cutoff': 1.0,\n",
       "  'tot': 9823,\n",
       "  'dist': array([0.67830602, 0.32169398]),\n",
       "  'left': {'type': 'split',\n",
       "   'gain': 0.016373729205872767,\n",
       "   'split_col': 'SCHL',\n",
       "   'cutoff': 21.0,\n",
       "   'tot': 4167,\n",
       "   'dist': array([0.74970002, 0.25029998]),\n",
       "   'left': {'type': 'leaf',\n",
       "    'tot': 773,\n",
       "    'dist': array([0.87839586, 0.12160414])},\n",
       "   'right': {'type': 'split',\n",
       "    'gain': 0.009122801548116954,\n",
       "    'split_col': 'SEX',\n",
       "    'cutoff': 1.0,\n",
       "    'tot': 3394,\n",
       "    'dist': array([0.72038892, 0.27961108]),\n",
       "    'left': {'type': 'leaf',\n",
       "     'tot': 1081,\n",
       "     'dist': array([0.64569843, 0.35430157])},\n",
       "    'right': {'type': 'split',\n",
       "     'gain': 0.0022798485461547058,\n",
       "     'split_col': 'AGEP',\n",
       "     'cutoff': 36.0,\n",
       "     'tot': 2313,\n",
       "     'dist': array([0.75529615, 0.24470385]),\n",
       "     'left': {'type': 'leaf',\n",
       "      'tot': 621,\n",
       "      'dist': array([0.71497585, 0.28502415])},\n",
       "     'right': {'type': 'split',\n",
       "      'gain': 0.005125705253856416,\n",
       "      'split_col': 'AGEP',\n",
       "      'cutoff': 57.0,\n",
       "      'tot': 1692,\n",
       "      'dist': array([0.77009456, 0.22990544]),\n",
       "      'left': {'type': 'leaf',\n",
       "       'tot': 1100,\n",
       "       'dist': array([0.79636364, 0.20363636])},\n",
       "      'right': {'type': 'leaf',\n",
       "       'tot': 592,\n",
       "       'dist': array([0.72128378, 0.27871622])}}}}},\n",
       "  'right': {'type': 'split',\n",
       "   'gain': 0.04856612120758791,\n",
       "   'split_col': 'AGEP',\n",
       "   'cutoff': 27.0,\n",
       "   'tot': 5656,\n",
       "   'dist': array([0.62570721, 0.37429279]),\n",
       "   'left': {'type': 'split',\n",
       "    'gain': 0.01364603548887755,\n",
       "    'split_col': 'SCHL',\n",
       "    'cutoff': 19.0,\n",
       "    'tot': 3557,\n",
       "    'dist': array([0.72251898, 0.27748102]),\n",
       "    'left': {'type': 'leaf',\n",
       "     'tot': 665,\n",
       "     'dist': array([0.84511278, 0.15488722])},\n",
       "    'right': {'type': 'split',\n",
       "     'gain': 0.004084588781252729,\n",
       "     'split_col': 'AGEP',\n",
       "     'cutoff': 17.0,\n",
       "     'tot': 2892,\n",
       "     'dist': array([0.69432918, 0.30567082]),\n",
       "     'left': {'type': 'leaf',\n",
       "      'tot': 1036,\n",
       "      'dist': array([0.6476834, 0.3523166])},\n",
       "     'right': {'type': 'split',\n",
       "      'gain': 0.0011902813076902219,\n",
       "      'split_col': 'SEX',\n",
       "      'cutoff': 1.0,\n",
       "      'tot': 1856,\n",
       "      'dist': array([0.72036638, 0.27963362]),\n",
       "      'left': {'type': 'leaf',\n",
       "       'tot': 1008,\n",
       "       'dist': array([0.73710317, 0.26289683])},\n",
       "      'right': {'type': 'leaf',\n",
       "       'tot': 848,\n",
       "       'dist': array([0.7004717, 0.2995283])}}}},\n",
       "   'right': {'type': 'split',\n",
       "    'gain': 0.019088462931669326,\n",
       "    'split_col': 'AGEP',\n",
       "    'cutoff': 45.0,\n",
       "    'tot': 2099,\n",
       "    'dist': array([0.4616484, 0.5383516]),\n",
       "    'left': {'type': 'split',\n",
       "     'gain': 0.0024272786626252096,\n",
       "     'split_col': 'AGEP',\n",
       "     'cutoff': 33.0,\n",
       "     'tot': 1281,\n",
       "     'dist': array([0.52615144, 0.47384856]),\n",
       "     'left': {'type': 'leaf',\n",
       "      'tot': 668,\n",
       "      'dist': array([0.55389222, 0.44610778])},\n",
       "     'right': {'type': 'leaf',\n",
       "      'tot': 613,\n",
       "      'dist': array([0.4959217, 0.5040783])}},\n",
       "    'right': {'type': 'leaf',\n",
       "     'tot': 818,\n",
       "     'dist': array([0.3606357, 0.6393643])}}}}}"
      ]
     },
     "execution_count": 46,
     "metadata": {},
     "output_type": "execute_result"
    }
   ],
   "source": [
    "clf_t.tree"
   ]
  },
  {
   "cell_type": "code",
   "execution_count": 45,
   "id": "8cc89ecd",
   "metadata": {
    "scrolled": true
   },
   "outputs": [
    {
     "data": {
      "text/plain": [
       "(0.11044574847988227,\n",
       " {'type': 'split',\n",
       "  'gain': 0.016543420941708575,\n",
       "  'split_col': 'RAC1P',\n",
       "  'cutoff': 2.0,\n",
       "  'tot': 14284,\n",
       "  'dist': array([0.72556707, 0.27443293]),\n",
       "  'left': {'type': 'split',\n",
       "   'gain': 0.017551274185939547,\n",
       "   'split_col': 'AGEP',\n",
       "   'cutoff': 54.0,\n",
       "   'tot': 4054,\n",
       "   'dist': array([0.61618155, 0.38381845]),\n",
       "   'left': {'type': 'split',\n",
       "    'gain': 0.011780225452817539,\n",
       "    'split_col': 'AGEP',\n",
       "    'cutoff': 20.0,\n",
       "    'tot': 3160,\n",
       "    'dist': array([0.65696203, 0.34303797]),\n",
       "    'left': {'type': 'leaf',\n",
       "     'tot': 737,\n",
       "     'dist': array([0.54545455, 0.45454545])},\n",
       "    'right': {'type': 'split',\n",
       "     'gain': 0.007918206166596553,\n",
       "     'split_col': 'SEX',\n",
       "     'cutoff': 1.0,\n",
       "     'tot': 2423,\n",
       "     'dist': array([0.69087908, 0.30912092]),\n",
       "     'left': {'type': 'leaf',\n",
       "      'tot': 1153,\n",
       "      'dist': array([0.7415438, 0.2584562])},\n",
       "     'right': {'type': 'leaf',\n",
       "      'tot': 1270,\n",
       "      'dist': array([0.64488189, 0.35511811])}}},\n",
       "   'right': {'type': 'leaf',\n",
       "    'tot': 894,\n",
       "    'dist': array([0.47203579, 0.52796421])}},\n",
       "  'right': {'type': 'split',\n",
       "   'gain': 0.01660822541514667,\n",
       "   'split_col': 'AGEP',\n",
       "   'cutoff': 53.0,\n",
       "   'tot': 10230,\n",
       "   'dist': array([0.76891496, 0.23108504]),\n",
       "   'left': {'type': 'split',\n",
       "    'gain': 0.010663092586472578,\n",
       "    'split_col': 'AGEP',\n",
       "    'cutoff': 17.0,\n",
       "    'tot': 7762,\n",
       "    'dist': array([0.80610667, 0.19389333]),\n",
       "    'left': {'type': 'leaf',\n",
       "     'tot': 983,\n",
       "     'dist': array([0.67243133, 0.32756867])},\n",
       "    'right': {'type': 'split',\n",
       "     'gain': 0.006401031344022812,\n",
       "     'split_col': 'SCHL',\n",
       "     'cutoff': 21.0,\n",
       "     'tot': 6779,\n",
       "     'dist': array([0.82549049, 0.17450951]),\n",
       "     'left': {'type': 'leaf',\n",
       "      'tot': 728,\n",
       "      'dist': array([0.92032967, 0.07967033])},\n",
       "     'right': {'type': 'split',\n",
       "      'gain': 0.006189220212404756,\n",
       "      'split_col': 'SCHL',\n",
       "      'cutoff': 19.0,\n",
       "      'tot': 6051,\n",
       "      'dist': array([0.81408032, 0.18591968]),\n",
       "      'left': {'type': 'leaf',\n",
       "       'tot': 1402,\n",
       "       'dist': array([0.87731812, 0.12268188])},\n",
       "      'right': {'type': 'split',\n",
       "       'gain': 0.007540691707724312,\n",
       "       'split_col': 'MAR',\n",
       "       'cutoff': 1.0,\n",
       "       'tot': 4649,\n",
       "       'dist': array([0.79500968, 0.20499032]),\n",
       "       'left': {'type': 'split',\n",
       "        'gain': 0.0011718387717998269,\n",
       "        'split_col': 'AGEP',\n",
       "        'cutoff': 35.0,\n",
       "        'tot': 1975,\n",
       "        'dist': array([0.84253165, 0.15746835]),\n",
       "        'left': {'type': 'leaf',\n",
       "         'tot': 736,\n",
       "         'dist': array([0.82336957, 0.17663043])},\n",
       "        'right': {'type': 'leaf',\n",
       "         'tot': 1239,\n",
       "         'dist': array([0.85391445, 0.14608555])}},\n",
       "       'right': {'type': 'split',\n",
       "        'gain': 0.018618135512195988,\n",
       "        'split_col': 'AGEP',\n",
       "        'cutoff': 32.0,\n",
       "        'tot': 2674,\n",
       "        'dist': array([0.75991025, 0.24008975]),\n",
       "        'left': {'type': 'split',\n",
       "         'gain': 0.010112377107015458,\n",
       "         'split_col': 'SEX',\n",
       "         'cutoff': 1.0,\n",
       "         'tot': 1701,\n",
       "         'dist': array([0.81246326, 0.18753674]),\n",
       "         'left': {'type': 'leaf',\n",
       "          'tot': 897,\n",
       "          'dist': array([0.85618729, 0.14381271])},\n",
       "         'right': {'type': 'leaf',\n",
       "          'tot': 804,\n",
       "          'dist': array([0.76368159, 0.23631841])}},\n",
       "        'right': {'type': 'leaf',\n",
       "         'tot': 973,\n",
       "         'dist': array([0.668037, 0.331963])}}}}}},\n",
       "   'right': {'type': 'split',\n",
       "    'gain': 0.05437886848174811,\n",
       "    'split_col': 'MAR',\n",
       "    'cutoff': 1.0,\n",
       "    'tot': 2468,\n",
       "    'dist': array([0.65194489, 0.34805511]),\n",
       "    'left': {'type': 'split',\n",
       "     'gain': 0.005414945522069559,\n",
       "     'split_col': 'AGEP',\n",
       "     'cutoff': 59.0,\n",
       "     'tot': 1543,\n",
       "     'dist': array([0.75372651, 0.24627349]),\n",
       "     'left': {'type': 'leaf',\n",
       "      'tot': 799,\n",
       "      'dist': array([0.78973717, 0.21026283])},\n",
       "     'right': {'type': 'leaf',\n",
       "      'tot': 744,\n",
       "      'dist': array([0.71505376, 0.28494624])}},\n",
       "    'right': {'type': 'leaf',\n",
       "     'tot': 925,\n",
       "     'dist': array([0.48216216, 0.51783784])}}}})"
      ]
     },
     "execution_count": 45,
     "metadata": {},
     "output_type": "execute_result"
    }
   ],
   "source": [
    "clf_s.w_dist(), clf_s.tree"
   ]
  },
  {
   "cell_type": "code",
   "execution_count": 44,
   "id": "aad1ef0f",
   "metadata": {
    "scrolled": true
   },
   "outputs": [
    {
     "data": {
      "text/plain": [
       "(0.12078943282348806,\n",
       " {'type': 'split',\n",
       "  'gain': 0.06292557792938458,\n",
       "  'split_col': 'RAC1P',\n",
       "  'cutoff': 2.0,\n",
       "  'tot': 14284,\n",
       "  'dist': array([0.72528935, 0.27471065]),\n",
       "  'left': {'type': 'split',\n",
       "   'gain': 0.025181449263275063,\n",
       "   'split_col': 'AGEP',\n",
       "   'cutoff': 49.0,\n",
       "   'tot': 4054,\n",
       "   'dist': array([0.61925867, 0.38074133]),\n",
       "   'left': {'type': 'split',\n",
       "    'gain': 0.03224812657471432,\n",
       "    'split_col': 'AGEP',\n",
       "    'cutoff': 20.0,\n",
       "    'tot': 2778,\n",
       "    'dist': array([0.67335739, 0.32664261]),\n",
       "    'left': {'type': 'leaf',\n",
       "     'tot': 737,\n",
       "     'dist': array([0.54813105, 0.45186895])},\n",
       "    'right': {'type': 'split',\n",
       "     'gain': 0.013833736250566109,\n",
       "     'split_col': 'SEX',\n",
       "     'cutoff': 2.0,\n",
       "     'tot': 2041,\n",
       "     'dist': array([0.7279979, 0.2720021]),\n",
       "     'left': {'type': 'leaf',\n",
       "      'tot': 1056,\n",
       "      'dist': array([0.64867424, 0.35132576])},\n",
       "     'right': {'type': 'leaf',\n",
       "      'tot': 985,\n",
       "      'dist': array([0.77664975, 0.22335025])}}},\n",
       "   'right': {'type': 'leaf',\n",
       "    'tot': 1276,\n",
       "    'dist': array([0.50129575, 0.49870425])}},\n",
       "  'right': {'type': 'split',\n",
       "   'gain': 0.019625554056151046,\n",
       "   'split_col': 'AGEP',\n",
       "   'cutoff': 53.0,\n",
       "   'tot': 10230,\n",
       "   'dist': array([0.76778933, 0.23221067]),\n",
       "   'left': {'type': 'split',\n",
       "    'gain': 0.019474148799249358,\n",
       "    'split_col': 'SCHL',\n",
       "    'cutoff': 21.0,\n",
       "    'tot': 7762,\n",
       "    'dist': array([0.80555756, 0.19444244]),\n",
       "    'left': {'type': 'leaf',\n",
       "     'tot': 728,\n",
       "     'dist': array([0.91849373, 0.08150627])},\n",
       "    'right': {'type': 'split',\n",
       "     'gain': 0.01092775243512778,\n",
       "     'split_col': 'SCHL',\n",
       "     'cutoff': 19.0,\n",
       "     'tot': 7034,\n",
       "     'dist': array([0.79402549, 0.20597451]),\n",
       "     'left': {'type': 'leaf',\n",
       "      'tot': 1402,\n",
       "      'dist': array([0.87779011, 0.12220989])},\n",
       "     'right': {'type': 'split',\n",
       "      'gain': 0.007766305504071314,\n",
       "      'split_col': 'AGEP',\n",
       "      'cutoff': 17.0,\n",
       "      'tot': 5632,\n",
       "      'dist': array([0.77341529, 0.22658471]),\n",
       "      'left': {'type': 'leaf',\n",
       "       'tot': 983,\n",
       "       'dist': array([0.67236731, 0.32763269])},\n",
       "      'right': {'type': 'split',\n",
       "       'gain': 0.0048384288929848585,\n",
       "       'split_col': 'AGEP',\n",
       "       'cutoff': 38.0,\n",
       "       'tot': 4649,\n",
       "       'dist': array([0.79501727, 0.20498273]),\n",
       "       'left': {'type': 'split',\n",
       "        'gain': 0.00210908487964645,\n",
       "        'split_col': 'SEX',\n",
       "        'cutoff': 1.0,\n",
       "        'tot': 2929,\n",
       "        'dist': array([0.80889963, 0.19110037]),\n",
       "        'left': {'type': 'leaf',\n",
       "         'tot': 1358,\n",
       "         'dist': array([0.82989691, 0.17010309])},\n",
       "        'right': {'type': 'leaf',\n",
       "         'tot': 1571,\n",
       "         'dist': array([0.78739656, 0.21260344])}},\n",
       "       'right': {'type': 'split',\n",
       "        'gain': 0.0015384077967430243,\n",
       "        'split_col': 'AGEP',\n",
       "        'cutoff': 47.0,\n",
       "        'tot': 1720,\n",
       "        'dist': array([0.77297997, 0.22702003]),\n",
       "        'left': {'type': 'leaf',\n",
       "         'tot': 948,\n",
       "         'dist': array([0.78547754, 0.21452246])},\n",
       "        'right': {'type': 'leaf',\n",
       "         'tot': 772,\n",
       "         'dist': array([0.75680565, 0.24319435])}}}}}},\n",
       "   'right': {'type': 'split',\n",
       "    'gain': 0.04567558315777309,\n",
       "    'split_col': 'MAR',\n",
       "    'cutoff': 1.0,\n",
       "    'tot': 2468,\n",
       "    'dist': array([0.65162331, 0.34837669]),\n",
       "    'left': {'type': 'split',\n",
       "     'gain': 0.0014920193374608481,\n",
       "     'split_col': 'AGEP',\n",
       "     'cutoff': 59.0,\n",
       "     'tot': 1543,\n",
       "     'dist': array([0.75277682, 0.24722318]),\n",
       "     'left': {'type': 'leaf',\n",
       "      'tot': 799,\n",
       "      'dist': array([0.78727172, 0.21272828])},\n",
       "     'right': {'type': 'leaf',\n",
       "      'tot': 744,\n",
       "      'dist': array([0.71689796, 0.28310204])}},\n",
       "    'right': {'type': 'leaf',\n",
       "     'tot': 925,\n",
       "     'dist': array([0.48297737, 0.51702263])}}}})"
      ]
     },
     "execution_count": 44,
     "metadata": {},
     "output_type": "execute_result"
    }
   ],
   "source": [
    "clf_da.w_dist(), clf_da.tree"
   ]
  },
  {
   "cell_type": "code",
   "execution_count": null,
   "id": "6dce9559",
   "metadata": {},
   "outputs": [],
   "source": []
  }
 ],
 "metadata": {
  "kernelspec": {
   "display_name": "Python 3 (ipykernel)",
   "language": "python",
   "name": "python3"
  },
  "language_info": {
   "codemirror_mode": {
    "name": "ipython",
    "version": 3
   },
   "file_extension": ".py",
   "mimetype": "text/x-python",
   "name": "python",
   "nbconvert_exporter": "python",
   "pygments_lexer": "ipython3",
   "version": "3.9.13"
  }
 },
 "nbformat": 4,
 "nbformat_minor": 5
}
