{
 "cells": [
  {
   "cell_type": "markdown",
   "id": "fb18573c",
   "metadata": {},
   "source": [
    "### This script analyses results of experiments after running >python experiments.py all_experiments"
   ]
  },
  {
   "cell_type": "code",
   "execution_count": null,
   "id": "19f3e238",
   "metadata": {},
   "outputs": [],
   "source": [
    "%load_ext autoreload\n",
    "%autoreload 2\n",
    "%matplotlib inline\n",
    "\n",
    "# global imports\n",
    "\n",
    "import sys\n",
    "import time\n",
    "import pickle\n",
    "import numpy as np\n",
    "import pandas as pd\n",
    "import scipy.stats as stats\n",
    "from os import path\n",
    "import glob\n",
    "import matplotlib.pyplot as plt\n",
    "import seaborn as sns\n",
    "from matplotlib.colors import TwoSlopeNorm\n",
    "import warnings\n",
    "warnings.simplefilter(action='ignore', category=FutureWarning)\n",
    "\n",
    "# local imports\n",
    "import utils\n",
    "\n",
    "# general settings  \n",
    "plt.style.use('seaborn-whitegrid')\n",
    "plt.rc('font', size=14)\n",
    "plt.rc('legend', fontsize=14)\n",
    "plt.rc('lines', linewidth=2)\n",
    "plt.rc('axes', linewidth=2)\n",
    "plt.rc('axes', edgecolor='k')\n",
    "plt.rc('xtick.major', width=2)\n",
    "plt.rc('xtick.major', size=6)\n",
    "plt.rc('ytick.major', width=2)\n",
    "plt.rc('ytick.major', size=6)\n",
    "plt.rc('pdf', fonttype=42)\n",
    "plt.rc('ps', fonttype=42)"
   ]
  },
  {
   "cell_type": "code",
   "execution_count": null,
   "id": "f8458bef",
   "metadata": {},
   "outputs": [],
   "source": [
    "%%time\n",
    "# subset of attributes\n",
    "attributes = utils.get_attributes('subset1')\n",
    "print('Attributes', attributes)\n",
    "states = utils.states\n",
    "nstates = len(states)\n",
    "print('No States', nstates)\n",
    "state2pos = {s:i for i, s in enumerate(states)}\n",
    "\n",
    "# load distances (see 01_CalculateDistances.ipynb)\n",
    "dists = pickle.load( open(\"results/distances.pkl\", \"rb\" ) )\n",
    "# restrict to subset and states\n",
    "dists = { k:{att:d for att, d in v.items() if att in attributes} for k, v in dists.items() if k[0] in states and k[1] in states and k[0] != k[1]}"
   ]
  },
  {
   "cell_type": "code",
   "execution_count": null,
   "id": "abdaf7c4",
   "metadata": {
    "scrolled": true
   },
   "outputs": [],
   "source": [
    "# load results\n",
    "def load_res(files):\n",
    "    results = []\n",
    "    for filename in glob.glob(files):\n",
    "        print(filename)\n",
    "        result = pickle.load( open( filename, \"rb\" ) )\n",
    "        results.extend(result)\n",
    "    return results\n",
    "\n",
    "dir = 'results/exp/'\n",
    "acc_res = load_res(dir+'results_*_subset1_6.pkl')\n",
    "acc_res1 = load_res(dir+'results_*_subset1_1.pkl')\n",
    "acc_res2 = load_res(dir+'results_*_subset1_2.pkl')\n",
    "\n",
    "dp_res = load_res(dir+'results_*_subset1_6_demographic_parity.pkl')\n",
    "dp_res1 = load_res(dir+'results_*_subset1_1_demographic_parity.pkl')\n",
    "dp_res2 = load_res(dir+'results_*_subset1_2_demographic_parity.pkl')\n",
    "\n",
    "eop_res = load_res(dir+'results_*_subset1_6_true_positive_rate_parity.pkl')\n",
    "eop_res1 = load_res(dir+'results_*_subset1_1_true_positive_rate_parity.pkl')\n",
    "eop_res2 = load_res(dir+'results_*_subset1_2_true_positive_rate_parity.pkl')"
   ]
  },
  {
   "cell_type": "code",
   "execution_count": null,
   "id": "84a2644e",
   "metadata": {
    "scrolled": true
   },
   "outputs": [],
   "source": [
    "# look at an example\n",
    "[{k:v for k, v in r.items() if k != 'clf'} for r in acc_res if r['source']=='AL' and r['target']=='OR']"
   ]
  },
  {
   "cell_type": "code",
   "execution_count": null,
   "id": "9d77ec25",
   "metadata": {},
   "outputs": [],
   "source": [
    "# find specific results\n",
    "def cond(l, source=None, target=None, da=False):\n",
    "    return [r for r in l if (source is None or (r['source']==source)) and\\\n",
    "            (target is None or (r['target']==target)) and (r['da']==da) ]\n",
    "\n",
    "# build metric matrix\n",
    "def metric_m(results, met, kind='alpha_rel', diag=False):\n",
    "    res = np.zeros((nstates, nstates))\n",
    "    for i, source in enumerate(states):\n",
    "        for j, target in enumerate(states):\n",
    "            if i==j and not diag:\n",
    "                res[i, j] = np.NaN\n",
    "                continue\n",
    "            target_target = cond(results, source=target, target=target, da=False)\n",
    "            source_target = cond(results, source=source, target=target, da=False)\n",
    "            source_target_da = cond(results, source=source, target=target, da=True)\n",
    "            if len(target_target)==1 and len(source_target)==1 and len(source_target_da)==1:\n",
    "                target_target_v = utils.get_metric(target_target[0], met)\n",
    "                source_target_v = utils.get_metric(source_target[0], met)\n",
    "                source_target_da_v = utils.get_metric(source_target_da[0], met)                    \n",
    "                mi = min(target_target_v, source_target_v)\n",
    "                ma = max(target_target_v, source_target_v)\n",
    "                if kind=='da_rel':\n",
    "                    if mi  != ma:\n",
    "                        dif = (source_target_da_v-mi) if met == 'acc' else (ma-source_target_da_v)\n",
    "                        rel = dif/(ma  - mi)*100\n",
    "                        # cap\n",
    "                        res[i, j] = (rel if rel >= -100 else -100) if rel <= 100 else 100\n",
    "                    else:\n",
    "                        res[i, j] = 100 if source_target_da_v >= mi else -100\n",
    "                #elif kind=='da_abs':\n",
    "                #    res[i, j] = (source_target_da_v - target_target_v)*100\n",
    "                elif kind=='target_minus_source':\n",
    "                    res[i, j] = (source_target_v - target_target_v)*100\n",
    "                else:\n",
    "                    raise BaseException(\"unknown kind\", kind)\n",
    "            else:\n",
    "                raise BaseException(\"error {} {} {} {}\".format(source, target, len(target_target), len(source_target), len(source_target_alpha)))\n",
    "    return res"
   ]
  },
  {
   "cell_type": "code",
   "execution_count": null,
   "id": "ff55dacb",
   "metadata": {},
   "outputs": [],
   "source": [
    "%%time\n",
    "\n",
    "acc_st = metric_m(acc_res, 'acc', kind='target_minus_source')\n",
    "acc_da = metric_m(acc_res, 'acc', kind='da_rel')\n",
    "acc_da1 = metric_m(acc_res1, 'acc', kind='da_rel')\n",
    "acc_da2 = metric_m(acc_res2, 'acc', kind='da_rel')\n",
    "\n",
    "dp_st = metric_m(dp_res, 'dp', kind='target_minus_source')\n",
    "dp_da = metric_m(dp_res, 'dp', kind='da_rel')\n",
    "dp_da1 = metric_m(dp_res1, 'dp', kind='da_rel')\n",
    "dp_da2 = metric_m(dp_res2, 'dp', kind='da_rel')\n",
    "\n",
    "eop_st = metric_m(eop_res, 'eop', kind='target_minus_source')\n",
    "eop_da = metric_m(eop_res, 'eop', kind='da_rel')\n",
    "eop_da1 = metric_m(eop_res1, 'eop', kind='da_rel')\n",
    "eop_da2 = metric_m(eop_res2, 'eop', kind='da_rel')"
   ]
  },
  {
   "cell_type": "code",
   "execution_count": null,
   "id": "5d1ac12a",
   "metadata": {},
   "outputs": [],
   "source": [
    "# better, equal cases, avg\n",
    "np.mean(acc_da>0), np.mean(acc_da==0), np.nanmean(acc_da)"
   ]
  },
  {
   "cell_type": "code",
   "execution_count": null,
   "id": "2c29e266",
   "metadata": {},
   "outputs": [],
   "source": [
    "# red points = degrade in accuracy \n",
    "label = \"$(ACC_{ntdk}-ACC_{tt})\\cdot 100$\"\n",
    "_, ax = plt.subplots(figsize=(8, 6))\n",
    "sns.heatmap(acc_st,xticklabels=False, yticklabels = False, #row_cluster=cluster, col_cluster=cluster,\n",
    "                    cbar_kws={'label': label, 'shrink':0.6}, center=0, vmin=-5, vmax=5,\n",
    "                    linewidths= 0.25, cmap=\"RdYlGn\")\n",
    "plt.savefig('results/fig2acc.png', bbox_inches='tight', dpi=400)\n",
    "plt.show()"
   ]
  },
  {
   "cell_type": "code",
   "execution_count": null,
   "id": "164bd262",
   "metadata": {},
   "outputs": [],
   "source": [
    "# red points = degrade dp difference\n",
    "label = \"$(DP_{tt}-DP_{ntdk})\\cdot 100$\" \n",
    "_, ax = plt.subplots(figsize=(8, 6))\n",
    "sns.heatmap(-dp_st,xticklabels=False, yticklabels = False, #row_cluster=cluster, col_cluster=cluster,\n",
    "                    cbar_kws={'label': label, 'shrink':0.6}, center=0, vmin=-5, vmax=5,\n",
    "                    linewidths= 0.25, cmap=\"RdYlGn\")\n",
    "plt.savefig('results/fig2dp.png', bbox_inches='tight', dpi=400)\n",
    "plt.show()"
   ]
  },
  {
   "cell_type": "code",
   "execution_count": null,
   "id": "becb4e99",
   "metadata": {},
   "outputs": [],
   "source": [
    "# red points = degrade EOP difference\n",
    "label = \"$(EOP_{tt}-EOP_{ntdk})\\cdot 100$\"\n",
    "_, ax = plt.subplots(figsize=(8, 6))\n",
    "sns.heatmap(-eop_st,xticklabels=False, yticklabels = False, #row_cluster=cluster, col_cluster=cluster,\n",
    "                    cbar_kws={'label': label, 'shrink':0.6}, center=0, vmin=-5, vmax=5,\n",
    "                    linewidths= 0.25, cmap=\"RdYlGn\")\n",
    "plt.savefig('results/fig2eop.png', bbox_inches='tight', dpi=400)\n",
    "plt.show()"
   ]
  },
  {
   "cell_type": "code",
   "execution_count": null,
   "id": "9e60087c",
   "metadata": {},
   "outputs": [],
   "source": [
    "# compute dimensions of analysis\n",
    "def calc_agg(results, df):\n",
    "    res = []\n",
    "    for k in dists:\n",
    "        sr, tg = k\n",
    "        if sr in states and tg in states and sr != tg:\n",
    "            res.append(\n",
    "                { 'source':sr, \n",
    "                  'target':tg,\n",
    "                  'ssize':dists[k]['AGEP']['len_s_train'], # 'AGEP' or any other att\n",
    "                  'tsize':dists[k]['AGEP']['len_t_train'],\n",
    "                  'min_d_y':np.min([v['w_y'] for v in dists[k].values()]),\n",
    "                  'min_d_y_cond':np.min([v['w_y_cond'] for v in dists[k].values()]),\n",
    "                  'st_w_dist':cond(results, source=sr, target=tg, da=False)[0]['w_dist'],\n",
    "                  'da_w_dist':cond(results, source=sr, target=tg, da=True)[0]['w_dist'],\n",
    "                  'met':df[state2pos[sr], state2pos[tg]]\n",
    "                }\n",
    "            )\n",
    "    return res"
   ]
  },
  {
   "cell_type": "code",
   "execution_count": null,
   "id": "57bc10e8",
   "metadata": {},
   "outputs": [],
   "source": [
    "%%time\n",
    "acc_agg = calc_agg(acc_res, acc_da)\n",
    "acc_agg1 = calc_agg(acc_res1, acc_da1)\n",
    "acc_agg2 = calc_agg(acc_res2, acc_da2)\n",
    "\n",
    "dp_agg = calc_agg(dp_res, dp_da)\n",
    "dp_agg1 = calc_agg(dp_res1, dp_da1)\n",
    "dp_agg2 = calc_agg(dp_res2, dp_da2)\n",
    "\n",
    "eop_agg = calc_agg(eop_res, eop_da)\n",
    "eop_agg1 = calc_agg(eop_res1, eop_da1)\n",
    "eop_agg2 = calc_agg(eop_res2, eop_da2)"
   ]
  },
  {
   "cell_type": "code",
   "execution_count": null,
   "id": "75d07914",
   "metadata": {},
   "outputs": [],
   "source": [
    "def plot_rel(res, label):\n",
    "    xs = np.array([v['st_w_dist'] for v in res])\n",
    "    ys = np.array([v['da_w_dist'] for v in res])\n",
    "    cs = np.array([v['met'] for v in res])\n",
    "    ds = np.array([v['min_d_y_cond'] for v in res]) \n",
    "    _, ax = plt.subplots(figsize=(8, 5))\n",
    "    plt.scatter(xs, ys, c=cs, linewidths = .5, marker =\"o\", cmap=\"RdYlGn\", s=20, norm=TwoSlopeNorm(0, -100, 100))\n",
    "    #ax.plot([0, .25], [0, .25])\n",
    "    plt.colorbar(label=label, orientation=\"vertical\", shrink=0.7)\n",
    "    plt.xlabel('$W(T_{ntdk})$')\n",
    "    plt.ylabel('$W(T_{ftdk})$')\n",
    "    plt.savefig('results/fig3'+label.lower()+'.png', bbox_inches='tight', dpi=400)\n",
    "    plt.show()\n",
    "    return xs, ys, cs, ds\n",
    "\n",
    "acc_xs, acc_ys, acc_cs, acc_ds = plot_rel(acc_agg, label=\"rACC\")"
   ]
  },
  {
   "cell_type": "code",
   "execution_count": null,
   "id": "005c026f",
   "metadata": {},
   "outputs": [],
   "source": [
    "def plot_res_zoom(xs, ys, cs):\n",
    "    pos = np.where( (xs < .05) & (ys < .05) )[0]\n",
    "    xs1 = xs[pos]\n",
    "    ys1 = ys[pos]\n",
    "    cs1 = cs[pos]\n",
    "\n",
    "    _, ax = plt.subplots(figsize=(7, 6))\n",
    "    plt.scatter(xs1, ys1, c=cs1, linewidths = .5, marker =\"o\", cmap=\"RdYlGn\", s=20, norm=TwoSlopeNorm(0, -100, 100))\n",
    "    plt.colorbar()\n",
    "    plt.show()\n",
    "    return xs1, ys1, cs1\n",
    "    \n",
    "_, _, acc_cs1 = plot_res_zoom(acc_xs, acc_ys, acc_cs)"
   ]
  },
  {
   "cell_type": "code",
   "execution_count": null,
   "id": "8a4e27fe",
   "metadata": {
    "scrolled": false
   },
   "outputs": [],
   "source": [
    "def plot_density(cs, cs1):\n",
    "    data1 = cs\n",
    "    data1 = data1[~np.isnan(data1)]\n",
    "    print(np.mean(data1))\n",
    "    print(stats.ttest_1samp(data1, popmean=0))\n",
    "    sns.kdeplot(np.array(data1), bw_method=0.5)\n",
    "\n",
    "    data2 = cs1\n",
    "    data2 = data2[~np.isnan(data2)]\n",
    "    print(np.mean(data2))\n",
    "    print(stats.ttest_1samp(data2, popmean=0))\n",
    "    sns.kdeplot(np.array(data2), bw_method=0.5)\n",
    "    plt.show()\n",
    "    \n",
    "plot_density(acc_cs, acc_cs1)"
   ]
  },
  {
   "cell_type": "code",
   "execution_count": null,
   "id": "e5b01068",
   "metadata": {
    "scrolled": true
   },
   "outputs": [],
   "source": [
    "dp_xs, dp_ys, dp_cs, dp_ds = plot_rel(dp_agg, label=\"rDP\")\n",
    "eop_xs, eop_ys, eop_cs, eop_ds = plot_rel(eop_agg, label=\"rEOP\")"
   ]
  },
  {
   "cell_type": "code",
   "execution_count": null,
   "id": "3d30a155",
   "metadata": {},
   "outputs": [],
   "source": [
    "def plot_rel_p(xs, cs1, ys, cs2, ds, cs3, es=None, cs4=None, fname='unknown', xlabel='maximum distance', ylabel=\"Mean rACC\", \n",
    "               label1='$W(T_{ntdk})$', label2='$W(T_{ftdk})$', label3='$\\mathcal{W}\\,(X)$', \n",
    "               label4='unknown', thr=0.03, legend='upper right'):\n",
    "    if xs is not None:\n",
    "        sortby = np.round(xs, 3)\n",
    "        pos = np.argsort(sortby)\n",
    "        ns = range(1, 1+len(pos))\n",
    "        posf = np.cumsum(cs1[pos])/ns\n",
    "        plt.plot(sortby[pos], posf, label=label1)\n",
    "        print(ylabel, 'at', label1, '<=', thr, posf[sum(sortby<=thr)])\n",
    "\n",
    "    if ys is not None:\n",
    "        sortby = np.round(ys, 3)\n",
    "        pos = np.argsort(sortby)\n",
    "        ns = range(1, 1+len(pos))\n",
    "        posf = np.cumsum(cs2[pos])/ns\n",
    "        plt.plot(sortby[pos], posf, label=label2)\n",
    "        print(ylabel, 'at', label2, '<=', thr, posf[sum(sortby<=thr)])\n",
    "\n",
    "    if ds is not None:\n",
    "        sortby = np.round(ds, 3)\n",
    "        pos = np.argsort(sortby)\n",
    "        ns = range(1, 1+len(pos))\n",
    "        posf = np.cumsum(cs3[pos])/ns\n",
    "        plt.plot(sortby[pos], posf, label=label3)\n",
    "        print(ylabel, 'at', label3, '<=', thr, posf[sum(sortby<=thr)])\n",
    "\n",
    "    if es is not None:\n",
    "        sortby = np.round(es, 3)\n",
    "        pos = np.argsort(sortby)\n",
    "        ns = range(1, 1+len(pos))\n",
    "        posf = np.cumsum(cs4[pos])/ns\n",
    "        plt.plot(sortby[pos], posf, label=label4)\n",
    "        print(ylabel, 'at', label4, '<=', thr, posf[sum(sortby<=thr)])\n",
    "\n",
    "    plt.xlabel(xlabel)\n",
    "    plt.ylabel(ylabel)\n",
    "    plt.legend(loc=legend)\n",
    "    plt.ylim(0)\n",
    "    plt.savefig('results/fig4'+fname+'.png', bbox_inches='tight', dpi=400)\n",
    "    plt.show()"
   ]
  },
  {
   "cell_type": "code",
   "execution_count": null,
   "id": "b09d465e",
   "metadata": {},
   "outputs": [],
   "source": [
    "#plot_rel_p(acc_xs, acc_cs, acc_ys, acc_cs, acc_ds, acc_cs, fname=\"racc\") # this add the ntdk series\n",
    "plot_rel_p(None, None, acc_ys, acc_cs, acc_ds, acc_cs, fname=\"racc\")"
   ]
  },
  {
   "cell_type": "code",
   "execution_count": null,
   "id": "aaed9ac9",
   "metadata": {
    "scrolled": true
   },
   "outputs": [],
   "source": [
    "acc_xs1, acc_ys1, acc_cs1, acc_ds1 = plot_rel(acc_agg1, label=\"rACC\")\n",
    "acc_xs2, acc_ys2, acc_cs2, acc_ds2 = plot_rel(acc_agg2, label=\"rACC\")"
   ]
  },
  {
   "cell_type": "code",
   "execution_count": null,
   "id": "cd718123",
   "metadata": {},
   "outputs": [],
   "source": [
    "plot_rel_p(acc_ds, acc_cs, acc_ds2, acc_cs2, acc_ds1, acc_cs1, xlabel = 'maximum distance $\\mathcal{W}\\,(X_w)$',\n",
    "           fname=\"racc3\", ylabel=\"Mean rACC\", label1='na=6', label2='na=3', label3='na=2')"
   ]
  },
  {
   "cell_type": "code",
   "execution_count": null,
   "id": "41f3e966",
   "metadata": {},
   "outputs": [],
   "source": [
    "plot_rel_p(None, None, dp_ys, dp_cs, dp_ds, dp_cs, ylabel=\"Mean rDP\", fname=\"rdp\")"
   ]
  },
  {
   "cell_type": "code",
   "execution_count": null,
   "id": "b05b28a7",
   "metadata": {},
   "outputs": [],
   "source": [
    "plot_rel_p(acc_ds, acc_cs, dp_ds, dp_cs, eop_ds, eop_cs, xlabel = 'maximum distance $\\mathcal{W}\\,(X_w)$',\n",
    "           fname='rrr', ylabel=\"rACC-rDP-rEOP\", label1='rACC', label2='rDP', label3='rEOP')"
   ]
  },
  {
   "cell_type": "code",
   "execution_count": null,
   "id": "758d3d4b",
   "metadata": {
    "scrolled": true
   },
   "outputs": [],
   "source": [
    "dp_xs1, dp_ys1, dp_cs1, dp_ds1 = plot_rel(dp_agg1, label=\"rDP\")\n",
    "dp_xs2, dp_ys2, dp_cs2, dp_ds2 = plot_rel(dp_agg2, label=\"rDP\")\n",
    "eop_xs1, eop_ys1, eop_cs1, eop_ds1 = plot_rel(eop_agg1, label=\"rEOP\")\n",
    "eop_xs2, eop_ys2, eop_cs2, eop_ds2 = plot_rel(eop_agg2, label=\"rEOP\")"
   ]
  },
  {
   "cell_type": "code",
   "execution_count": null,
   "id": "00a2af86",
   "metadata": {},
   "outputs": [],
   "source": [
    "plot_rel_p(dp_ds, dp_cs, dp_ds2, dp_cs2, dp_ds1, dp_cs1, xlabel = 'maximum distance $\\mathcal{W}\\,(X_w)$',\n",
    "           fname=\"rdp3\", ylabel=\"Mean rDP\", label1='na=6', label2='na=3', label3='na=2', legend='lower right')"
   ]
  },
  {
   "cell_type": "code",
   "execution_count": null,
   "id": "297c47ec",
   "metadata": {},
   "outputs": [],
   "source": [
    "plot_rel_p(eop_ds, eop_cs, eop_ds2, eop_cs2, eop_ds1, eop_cs1, xlabel = 'maximum distance $\\mathcal{W}\\,(X_w)$',\n",
    "           fname=\"reop3\", ylabel=\"Mean rEOP\", label1='na=6', label2='na=3', label3='na=2', legend='lower right')"
   ]
  },
  {
   "cell_type": "code",
   "execution_count": null,
   "id": "66d9d3c0",
   "metadata": {},
   "outputs": [],
   "source": []
  }
 ],
 "metadata": {
  "kernelspec": {
   "display_name": "Python 3 (ipykernel)",
   "language": "python",
   "name": "python3"
  },
  "language_info": {
   "codemirror_mode": {
    "name": "ipython",
    "version": 3
   },
   "file_extension": ".py",
   "mimetype": "text/x-python",
   "name": "python",
   "nbconvert_exporter": "python",
   "pygments_lexer": "ipython3",
   "version": "3.9.13"
  }
 },
 "nbformat": 4,
 "nbformat_minor": 5
}
