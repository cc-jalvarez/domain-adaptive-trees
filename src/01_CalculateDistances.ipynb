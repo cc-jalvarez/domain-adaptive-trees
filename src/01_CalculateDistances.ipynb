{
 "cells": [
  {
   "cell_type": "markdown",
   "id": "926f6f6b",
   "metadata": {},
   "source": [
    "### This script creates results/distances.pkl - calculating distance between source and target attributes"
   ]
  },
  {
   "cell_type": "code",
   "execution_count": 1,
   "id": "2fb6f13f",
   "metadata": {},
   "outputs": [],
   "source": [
    "%load_ext autoreload\n",
    "%autoreload 2\n",
    "%matplotlib inline\n",
    "\n",
    "# global imports\n",
    "import time\n",
    "import pickle\n",
    "import numpy as np\n",
    "from scipy.stats import wasserstein_distance\n",
    "import warnings\n",
    "warnings.simplefilter(action='ignore', category=FutureWarning)\n",
    "\n",
    "# local imports\n",
    "import utils\n",
    "from decision_tree_classifier import epmf"
   ]
  },
  {
   "cell_type": "code",
   "execution_count": 2,
   "id": "3d968422",
   "metadata": {
    "scrolled": false
   },
   "outputs": [
    {
     "name": "stdout",
     "output_type": "stream",
     "text": [
      "AK AL AR AZ CA CO CT DE FL GA HI IA ID IL IN KS KY LA MA MD ME MI MN MO MS MT NC ND NE NH NJ NM NV NY OH OK OR PA PR RI SC SD TN TX UT VA VT WA WI WV WY Wall time: 1min 58s\n"
     ]
    }
   ],
   "source": [
    "%%time\n",
    "\n",
    "# subset of attributes\n",
    "attributes = utils.get_attributes()\n",
    "# load data\n",
    "X_train_s, X_test_s, y_train_s, y_test_s, X_train_t, X_test_t, y_train_t, y_test_t = utils.load_ACSPublicCoverage(attributes)"
   ]
  },
  {
   "cell_type": "code",
   "execution_count": 3,
   "id": "e53b0362",
   "metadata": {
    "scrolled": true
   },
   "outputs": [],
   "source": [
    "# calculate distances on an attribute between source and domain\n",
    "def distances(source, target, att):\n",
    "    # categorical?\n",
    "    is_cat = att in utils.cat_atts \n",
    "    # source training att\n",
    "    xs = X_train_s[source][att]\n",
    "    # target training att\n",
    "    xt = X_train_t[target][att] \n",
    "    # source y\n",
    "    ys = y_train_s[source] \n",
    "    # target y\n",
    "    yt = y_train_t[target] \n",
    "    # distinct values of att in source and target \n",
    "    values = sorted(list(set(xs.unique()) | set(xt.unique()))) \n",
    "    # distinct classes in source and target\n",
    "    classes = sorted(list(set(ys.unique()) | set(yt.unique()))) \n",
    "    # PMF at source and target\n",
    "    pmf_s, pmf_t = [], []\n",
    "    # cumulative at source and target\n",
    "    cdf_s = cdf_t = 0\n",
    "    # distance sum_v P_s(Y|X=v)*P_t(X=v), see Eq. 13 in the paper\n",
    "    y_cond_est = 0\n",
    "    # distance on splits: sum_v d(P_s(Y|X=v), P_t(Y|X=v)*P_t(X=v)\n",
    "    d_y_cond = 0 \n",
    "    # another distance on split sum_v d(P_s(I(X=v)), P_t(I(X=v))*P_t(X=v), where I(X=v) is the indicator variable\n",
    "    d_splits = 0 \n",
    "    for value in values:\n",
    "        # P_s(value)\n",
    "        p_s = np.mean(xs==value) \n",
    "        pmf_s.append(p_s) # add to PMF\n",
    "        cdf_s += p_s # add to CDF\n",
    "        # P_t(value)\n",
    "        p_t = np.mean(xt==value) \n",
    "        pmf_t.append(p_t) # add to PMF\n",
    "        cdf_t += p_t # add to CDF\n",
    "        # P_s(Y|X=v)*P_t(X=v)\n",
    "        y_cond_est += epmf(ys[xs==value], classes)*p_t      \n",
    "        # P_s(Y|X=value) for cat and P_s(Y|X<=value) for continuous\n",
    "        y_cond_s = epmf(ys[(xs==value) if is_cat else (xs<=value)], classes) \n",
    "        # P_t(Y|X=value) for cat and P_s(Y|X<=value) for continuous\n",
    "        y_cond_t = epmf(yt[(xt==value) if is_cat else (xt<=value)], classes)\n",
    "        # sum of distances based on split condition from source to target, and weighted by target probability\n",
    "        d_y_cond += wasserstein_distance(y_cond_s, y_cond_t)*p_t\n",
    "        # another distance on splits\n",
    "        if is_cat:\n",
    "            d_splits += wasserstein_distance([p_s, 1-p_s], [p_t, 1-p_t])*p_t\n",
    "        else:\n",
    "            d_splits += wasserstein_distance([cdf_s, 1-cdf_s], [cdf_t, 1-cdf_t])*p_t\n",
    "    # d(P_s(X), P_t(X))\n",
    "    d_att = wasserstein_distance(pmf_s, pmf_t) \n",
    "    # d(P_s(X), P_t(Y))\n",
    "    d_y_cond_est = wasserstein_distance(y_cond_est, epmf(yt, classes))\n",
    "    return {\n",
    "            'd_att':d_att, \n",
    "            'd_y_cond_est':d_y_cond_est,\n",
    "            'd_y_cond':d_y_cond, \n",
    "            'd_splits':d_splits, \n",
    "            'len_s_train':len(xs), \n",
    "            'len_t_train':len(xt), \n",
    "            'len_t_test':len(X_test_t[target][att])\n",
    "           }"
   ]
  },
  {
   "cell_type": "code",
   "execution_count": 4,
   "id": "e6d5ef1e",
   "metadata": {},
   "outputs": [
    {
     "name": "stdout",
     "output_type": "stream",
     "text": [
      "Wall time: 2h 57min 37s\n"
     ]
    }
   ],
   "source": [
    "%%time\n",
    "\n",
    "# Compute distances between source state and target state for each attribute\n",
    "dists = dict()\n",
    "for sr in utils.states:\n",
    "    for tg in utils.states:\n",
    "        dists[(sr, tg)] = dict()\n",
    "        for att in attributes:\n",
    "            dists[(sr, tg)][att] = distances(sr, tg, att)\n",
    "            #print(sr, tg, att, dists[(sr, tg)][att])\n",
    "pickle.dump(dists, open(\"results/distances.pkl\", \"wb\" ))"
   ]
  },
  {
   "cell_type": "code",
   "execution_count": null,
   "id": "c7eae57f",
   "metadata": {},
   "outputs": [],
   "source": []
  }
 ],
 "metadata": {
  "kernelspec": {
   "display_name": "Python 3 (ipykernel)",
   "language": "python",
   "name": "python3"
  },
  "language_info": {
   "codemirror_mode": {
    "name": "ipython",
    "version": 3
   },
   "file_extension": ".py",
   "mimetype": "text/x-python",
   "name": "python",
   "nbconvert_exporter": "python",
   "pygments_lexer": "ipython3",
   "version": "3.9.13"
  }
 },
 "nbformat": 4,
 "nbformat_minor": 5
}
