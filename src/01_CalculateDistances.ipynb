{
 "cells": [
  {
   "cell_type": "markdown",
   "id": "926f6f6b",
   "metadata": {},
   "source": [
    "### This script creates results/distances.pkl - calculating distance between source and target attributes"
   ]
  },
  {
   "cell_type": "code",
   "execution_count": 1,
   "id": "2fb6f13f",
   "metadata": {},
   "outputs": [],
   "source": [
    "%load_ext autoreload\n",
    "%autoreload 2\n",
    "%matplotlib inline\n",
    "\n",
    "# global imports\n",
    "import time\n",
    "import pickle\n",
    "import numpy as np\n",
    "from scipy.stats import wasserstein_distance\n",
    "import warnings\n",
    "warnings.simplefilter(action='ignore', category=FutureWarning)\n",
    "\n",
    "# local imports\n",
    "import utils\n",
    "from decision_tree_classifier import epmf"
   ]
  },
  {
   "cell_type": "code",
   "execution_count": 2,
   "id": "3d968422",
   "metadata": {
    "scrolled": false
   },
   "outputs": [
    {
     "name": "stdout",
     "output_type": "stream",
     "text": [
      "AK AL AR AZ CA CO CT DE FL GA HI IA ID IL IN KS KY LA MA MD ME MI MN MO MS MT NC ND NE NH NJ NM NV NY OH OK OR PA RI SC SD TN TX UT VA VT WA WI WV WY Wall time: 1min 57s\n"
     ]
    }
   ],
   "source": [
    "%%time\n",
    "\n",
    "# subset of attributes\n",
    "attributes = utils.get_attributes('subset1')\n",
    "# load data\n",
    "X_train_s, X_test_s, y_train_s, y_test_s, X_train_t, X_test_t, y_train_t, y_test_t = utils.load_ACSPublicCoverage(attributes)"
   ]
  },
  {
   "cell_type": "code",
   "execution_count": 3,
   "id": "e53b0362",
   "metadata": {
    "scrolled": true
   },
   "outputs": [],
   "source": [
    "# calculate distances on an attribute between source and domain\n",
    "def distances(source, target, att):\n",
    "    # categorical?\n",
    "    is_cat = att in utils.cat_atts \n",
    "    # source training att\n",
    "    xs = X_train_s[source][att]\n",
    "    # target training att\n",
    "    xt = X_train_t[target][att] \n",
    "    # source y\n",
    "    ys = y_train_s[source] \n",
    "    # target y\n",
    "    yt = y_train_t[target] \n",
    "    # distinct values of att in source and target \n",
    "    values = sorted(list(set(xs.unique()) | set(xt.unique())))\n",
    "    # distinct classes in source and target\n",
    "    classes = sorted(list(set(ys.unique()) | set(yt.unique())))   \n",
    "    # W(\\hat{P}_S(X), \\hat{P}_T(X))\n",
    "    w_st = wasserstein_distance(epmf(xs, values), epmf(xt, values))\n",
    "    # W(\\hat{P}_T(Y|X), \\hat{P}(Y|X)))\n",
    "    w_y_cond = 0 \n",
    "    # accumulating \\hat{P}(Y|X)\n",
    "    y_est = 0\n",
    "    for value in values:\n",
    "        # \\hat{P}_T(X==x)\n",
    "        p_t = np.mean(xt==value)\n",
    "        # \\hat{P}_S(Y|X=x)*\\hat{P}_T(X=x)\n",
    "        y_est += epmf(ys[xs==value], classes)*p_t\n",
    "        # add to w_y_cond\n",
    "        ysv = ys[(xs==value) if is_cat else (xs<=value)]\n",
    "        ytv = yt[(xt==value) if is_cat else (xt<=value)]\n",
    "        # d(\\hat{P}_S(Y|X=x)), \\hat{P}_T(Y|X=x)))*\\hat{P}_T(X=x)\n",
    "        w_y_cond += wasserstein_distance(epmf(ysv, classes), epmf(ytv, classes))*p_t\n",
    "    # W(\\hat{P}_T(Y), \\hat{P}(Y)))\n",
    "    w_y = wasserstein_distance(y_est, epmf(yt, classes))\n",
    "    return {\n",
    "            'w_st':w_st, \n",
    "            'w_y':w_y, \n",
    "            'w_y_cond':w_y_cond,\n",
    "            'len_x':len(values),\n",
    "            'len_s_train':len(xs), \n",
    "            'len_t_train':len(xt), \n",
    "            'len_t_test':len(X_test_t[target][att])\n",
    "           }"
   ]
  },
  {
   "cell_type": "code",
   "execution_count": 4,
   "id": "e6d5ef1e",
   "metadata": {},
   "outputs": [
    {
     "name": "stdout",
     "output_type": "stream",
     "text": [
      "Wall time: 11min 45s\n"
     ]
    }
   ],
   "source": [
    "%%time\n",
    "# Compute distances between source state and target state for each attribute\n",
    "dists = dict()\n",
    "for sr in utils.states:\n",
    "    for tg in utils.states:\n",
    "        dists[(sr, tg)] = dict()\n",
    "        for att in attributes:\n",
    "            dists[(sr, tg)][att] = distances(sr, tg, att)\n",
    "            #print(sr, tg, att, dists[(sr, tg)][att])\n",
    "pickle.dump(dists, open(\"results/distances.pkl\", \"wb\" ))"
   ]
  },
  {
   "cell_type": "code",
   "execution_count": null,
   "id": "f92ce83b",
   "metadata": {},
   "outputs": [],
   "source": []
  }
 ],
 "metadata": {
  "kernelspec": {
   "display_name": "Python 3 (ipykernel)",
   "language": "python",
   "name": "python3"
  },
  "language_info": {
   "codemirror_mode": {
    "name": "ipython",
    "version": 3
   },
   "file_extension": ".py",
   "mimetype": "text/x-python",
   "name": "python",
   "nbconvert_exporter": "python",
   "pygments_lexer": "ipython3",
   "version": "3.9.13"
  }
 },
 "nbformat": 4,
 "nbformat_minor": 5
}
