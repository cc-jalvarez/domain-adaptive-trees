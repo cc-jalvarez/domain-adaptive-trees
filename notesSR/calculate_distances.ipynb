{
 "cells": [
  {
   "cell_type": "code",
   "execution_count": 1,
   "id": "1b607bd8",
   "metadata": {},
   "outputs": [
    {
     "data": {
      "text/plain": [
       "' This script creates results/distances.pkl - calculating distance between source and target data attributes '"
      ]
     },
     "execution_count": 1,
     "metadata": {},
     "output_type": "execute_result"
    }
   ],
   "source": [
    "''' This script creates results/distances.pkl - calculating distance between source and target data attributes '''"
   ]
  },
  {
   "cell_type": "code",
   "execution_count": 2,
   "id": "2fb6f13f",
   "metadata": {},
   "outputs": [],
   "source": [
    "%load_ext autoreload\n",
    "%autoreload 2\n",
    "%matplotlib inline\n",
    "\n",
    "# global imports\n",
    "import time\n",
    "import pickle\n",
    "from scipy.stats import wasserstein_distance\n",
    "import warnings\n",
    "warnings.simplefilter(action='ignore', category=FutureWarning)\n",
    "\n",
    "# local imports\n",
    "import utils\n",
    "from decision_tree_classifier import epmf"
   ]
  },
  {
   "cell_type": "code",
   "execution_count": 3,
   "id": "3d968422",
   "metadata": {
    "scrolled": true
   },
   "outputs": [
    {
     "name": "stdout",
     "output_type": "stream",
     "text": [
      "AK AL AR AZ CA CO CT DE FL GA HI IA ID IL IN KS KY LA MA MD ME MI MN MO MS MT NC ND NE NH NJ NM NV NY OH OK OR PA PR RI SC SD TN TX UT VA VT WA WI WV WY CPU times: total: 1min 48s\n",
      "Wall time: 1min 48s\n"
     ]
    }
   ],
   "source": [
    "%%time\n",
    "\n",
    "### parameters\n",
    "subset = utils.get_subset('all')\n",
    "# load data\n",
    "X_train_s, X_test_s, y_train_s, y_test_s, X_train_t, X_test_t, y_train_t, y_test_t = utils.load_ACSPublicCoverage(subset)"
   ]
  },
  {
   "cell_type": "code",
   "execution_count": 4,
   "id": "e53b0362",
   "metadata": {
    "scrolled": true
   },
   "outputs": [],
   "source": [
    "# calculate distances on an attribute between source and domain\n",
    "def distances(source, target, att):\n",
    "    is_cat = att in utils.cat_atts # categorical?\n",
    "    xs = X_train_s[source][att] # source att\n",
    "    xt = X_train_t[target][att] # target att\n",
    "    ys = y_train_s[source] # source y\n",
    "    yt = y_train_t[target] # target y\n",
    "    values = sorted(list(set(xs.unique()) | set(xt.unique()))) # distinct values in source or target\n",
    "    classes = sorted(list(set(ys.unique()) | set(yt.unique()))) # distinct classes in source or target\n",
    "    ns, nt = len(xs), len(xt)\n",
    "    # pmf at source and target\n",
    "    pmf_s, pmf_t = [], []\n",
    "    # cumulative at source and target\n",
    "    cdf_s = cdf_t = 0\n",
    "    # sum_v P_s(Y|X=v)*P_t(X=v)\n",
    "    y_cond_est = 0\n",
    "    # sum_v d(P_s(I(X=v)), P_t(I(X=v))*P_t(X=v)\n",
    "    d_splits = 0 \n",
    "    for value in values:\n",
    "        p_s = sum(xs==value)/ns # P_s(value)\n",
    "        pmf_s.append(p_s) \n",
    "        cdf_s += p_s # cumulative at source\n",
    "        p_t = sum(xt==value)/nt # P_t(value)\n",
    "        pmf_t.append(p_t)\n",
    "        cdf_t += p_t # cumulative at target\n",
    "        y_cond_est += epmf(ys[xs==value], classes)*p_t\n",
    "        if is_cat:\n",
    "            d_splits += wasserstein_distance([p_s, 1-p_s], [p_t, 1-p_t])*p_t\n",
    "        else:\n",
    "            d_splits += wasserstein_distance([cdf_s, 1-cdf_s], [cdf_t, 1-cdf_t])*p_t\n",
    "    # d(P_s(X), P_t(X))\n",
    "    d_att = wasserstein_distance(pmf_s, pmf_t) \n",
    "    # d(P_s(X), P_t(Y))\n",
    "    d_y_cond = wasserstein_distance(y_cond_est, epmf(yt, classes))\n",
    "    return {'d_att':d_att, 'd_y_cond':d_y_cond, 'd_splits':d_splits}"
   ]
  },
  {
   "cell_type": "code",
   "execution_count": 5,
   "id": "e6d5ef1e",
   "metadata": {},
   "outputs": [
    {
     "name": "stdout",
     "output_type": "stream",
     "text": [
      "CPU times: total: 2h 40min 22s\n",
      "Wall time: 2h 40min 23s\n"
     ]
    }
   ],
   "source": [
    "%%time\n",
    "\n",
    "# compute distances between source and target\n",
    "dists = dict()\n",
    "for  sr in utils.states:\n",
    "    for tg in utils.states:\n",
    "        dists[(sr, tg)] = dict()\n",
    "        for att in X_train_s[sr].columns.to_list():\n",
    "            dists[(sr, tg)][att] = distances(sr, tg, att)\n",
    "            #print(sr, tg, att, dists[(sr, tg)][att])\n",
    "pickle.dump(dists, open(\"results/distances.pkl\", \"wb\" ))"
   ]
  },
  {
   "cell_type": "code",
   "execution_count": null,
   "id": "becf12ff",
   "metadata": {},
   "outputs": [],
   "source": []
  }
 ],
 "metadata": {
  "kernelspec": {
   "display_name": "Python 3 (ipykernel)",
   "language": "python",
   "name": "python3"
  },
  "language_info": {
   "codemirror_mode": {
    "name": "ipython",
    "version": 3
   },
   "file_extension": ".py",
   "mimetype": "text/x-python",
   "name": "python",
   "nbconvert_exporter": "python",
   "pygments_lexer": "ipython3",
   "version": "3.9.7"
  }
 },
 "nbformat": 4,
 "nbformat_minor": 5
}
