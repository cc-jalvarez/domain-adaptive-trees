{
 "cells": [
  {
   "cell_type": "code",
   "execution_count": null,
   "id": "2fb6f13f",
   "metadata": {},
   "outputs": [],
   "source": [
    "%load_ext autoreload\n",
    "%autoreload 2\n",
    "%matplotlib inline\n",
    "\n",
    "# global imports\n",
    "import sys\n",
    "import time\n",
    "import pickle\n",
    "import matplotlib.pyplot as plt\n",
    "from matplotlib.colors import TwoSlopeNorm\n",
    "import numpy as np\n",
    "import warnings\n",
    "warnings.simplefilter(action='ignore', category=FutureWarning)\n",
    "\n",
    "# local imports\n",
    "import utils\n",
    "\n",
    "# general settings  \n",
    "plt.style.use('seaborn-v0_8-whitegrid')\n",
    "plt.rc('font', size=14)\n",
    "plt.rc('legend', fontsize=14)\n",
    "plt.rc('lines', linewidth=2)\n",
    "plt.rc('axes', linewidth=2)\n",
    "plt.rc('axes', edgecolor='k')\n",
    "plt.rc('xtick.major', width=2)\n",
    "plt.rc('xtick.major', size=6)\n",
    "plt.rc('ytick.major', width=2)\n",
    "plt.rc('ytick.major', size=6)\n",
    "plt.rc('pdf', fonttype=42)\n",
    "plt.rc('ps', fonttype=42)"
   ]
  },
  {
   "cell_type": "code",
   "execution_count": null,
   "id": "3d968422",
   "metadata": {
    "scrolled": true
   },
   "outputs": [],
   "source": [
    "%%time\n",
    "### parameters\n",
    "subset_string = 'subset1'\n",
    "subset = utils.get_subset(subset_string)\n",
    "print(subset)\n",
    "# remove PR from states\n",
    "states = sorted(list(set(utils.states)-{'PR'}))\n",
    "nstates = len(states)\n",
    "print('nstates', nstates)\n",
    "# load data\n",
    "X_train_s, X_test_s, y_train_s, y_test_s, X_train_t, X_test_t, y_train_t, y_test_t = utils.load_ACSPublicCoverage(subset, states)"
   ]
  },
  {
   "cell_type": "code",
   "execution_count": null,
   "id": "e53b0362",
   "metadata": {
    "scrolled": true
   },
   "outputs": [],
   "source": [
    "# load distances (see calculate_distances.ipynb)\n",
    "dists = pickle.load( open(\"results/distances.pkl\", \"rb\" ) )\n",
    "# restrict to subset and states\n",
    "dists = { k:{att:d for att, d in v.items() if att in subset} for k, v in dists.items() if k[0] in states and k[1] in states and k[0] != k[1]}"
   ]
  },
  {
   "cell_type": "code",
   "execution_count": null,
   "id": "deb80420",
   "metadata": {},
   "outputs": [],
   "source": [
    "# some exploration of distances\n",
    "sub = subset #['SCHL', 'MAR', 'AGEP', 'SEX', 'RAC1P'] # subset of attributes\n",
    "pos = {a:i for i, a in enumerate(sub)}\n",
    "d_att = [v['d_att'] for k, d in dists.items() for a, v in d.items() if a in sub]\n",
    "d_y_cond = [v['d_y_cond'] for k, d in dists.items() for a, v in d.items() if a in sub]\n",
    "d_splits = [v['d_splits'] for k, d in dists.items() for a, v in d.items() if a in sub]\n",
    "atts = [pos[a] for k, d in dists.items() for a, v in d.items() if a in sub]"
   ]
  },
  {
   "cell_type": "code",
   "execution_count": null,
   "id": "fc86c702",
   "metadata": {},
   "outputs": [],
   "source": [
    "_, ax = plt.subplots(figsize=(4, 5))\n",
    "scatter = ax.scatter(d_att, d_y_cond, c=atts, linewidths = .5, marker =\"o\", s=20, cmap=\"Set1\") # https://matplotlib.org/stable/tutorials/colors/colormaps.html\n",
    "plt.xlabel('W marginal attribute distributions')\n",
    "plt.ylabel('W target and estimated class distr.')\n",
    "pos = ax.get_position()\n",
    "ax.set_position([pos.x0, pos.y0, pos.width * 1.7, pos.height])\n",
    "ax.legend(scatter.legend_elements()[0], sub, title=\"Attributes\", loc='center right', handletextpad=0.1, bbox_to_anchor=(1.25, 0.5))\n",
    "plt.savefig('fig1.png', bbox_inches='tight', dpi=400)\n",
    "plt.show()"
   ]
  },
  {
   "cell_type": "code",
   "execution_count": null,
   "id": "d5301ef8",
   "metadata": {},
   "outputs": [],
   "source": [
    "_, ax = plt.subplots(figsize=(4, 5))\n",
    "scatter = ax.scatter(d_att, d_splits, c=atts, linewidths = .5, marker =\"o\", s=20, cmap=\"Set1\") # https://matplotlib.org/stable/tutorials/colors/colormaps.html\n",
    "plt.xlabel('W marginal attribute distributions')\n",
    "plt.ylabel('W splits distributions')\n",
    "pos = ax.get_position()\n",
    "ax.set_position([pos.x0, pos.y0, pos.width * 1.7, pos.height])\n",
    "ax.legend(scatter.legend_elements()[0], sub, title=\"Attributes\", loc='center right', handletextpad=0.1, bbox_to_anchor=(1.25, 0.5))\n",
    "plt.show()"
   ]
  },
  {
   "cell_type": "code",
   "execution_count": null,
   "id": "9d0da47b",
   "metadata": {},
   "outputs": [],
   "source": [
    "%%time\n",
    "# compute dimensions of analysis\n",
    "def sim(k, d, agg=np.mean, att=None):\n",
    "    atts = dists[k]\n",
    "    if att is None:\n",
    "        return agg([v[d] for v in atts.values()])\n",
    "    return atts[att][d]\n",
    "\n",
    "res = dict()\n",
    "for k in dists:\n",
    "    sr, tg = k\n",
    "    if sr == tg:\n",
    "        continue\n",
    "    res[(sr, tg)] = { 'avg_d_att':sim(k, 'd_att'),\n",
    "                      'avg_d_y_cond':sim(k, 'd_y_cond_est'),\n",
    "                      'avg_d_splits':sim(k, 'd_splits'),\n",
    "                      'min_d_y_cond':sim(k, 'd_y_cond_est', np.min)\n",
    "                    }"
   ]
  },
  {
   "cell_type": "code",
   "execution_count": null,
   "id": "aab1cfb6",
   "metadata": {},
   "outputs": [],
   "source": []
  },
  {
   "cell_type": "code",
   "execution_count": null,
   "id": "1717bf3c",
   "metadata": {},
   "outputs": [],
   "source": []
  },
  {
   "cell_type": "code",
   "execution_count": null,
   "id": "e6d5ef1e",
   "metadata": {},
   "outputs": [],
   "source": [
    "# parameters\n",
    "max_depth = 8\n",
    "min_pct = 0.01\n",
    "source = 'CO'\n",
    "target = 'AK'\n",
    "att_td = 'SEX'\n",
    "# distances\n",
    "print(dists[(source, target)])\n",
    "# derived parameters\n",
    "size = len(X_train_s[source])\n",
    "min_cases = int(size*min_pct)"
   ]
  },
  {
   "cell_type": "code",
   "execution_count": null,
   "id": "dfef7d4b",
   "metadata": {},
   "outputs": [],
   "source": [
    "[(c, dists[(source, target)][c]['d_y_cond']) for c in X_train_s[source].columns]"
   ]
  },
  {
   "cell_type": "code",
   "execution_count": null,
   "id": "fd83a5b5",
   "metadata": {},
   "outputs": [],
   "source": [
    "%%time\n",
    "# train on target, test on target\n",
    "clf_t, cm_t, cm_unprotected_t, cm_protected_t = utils.run_test(X_train_s[target], y_train_s[target], X_test_t[target], \n",
    "    y_test_t[target], X_td=None, max_depth=max_depth, min_cases=min_cases)"
   ]
  },
  {
   "cell_type": "code",
   "execution_count": null,
   "id": "6189db17",
   "metadata": {},
   "outputs": [],
   "source": [
    "%%time\n",
    "# train on source, test on target\n",
    "clf_s, cm_s, cm_unprotected_s, cm_protected_s = utils.run_test(X_train_s[source], y_train_s[source], X_test_t[target], \n",
    "    y_test_t[target], X_td=X_train_t[target], alpha=None, max_depth=max_depth, min_cases=min_cases, y_td=y_train_t[target])"
   ]
  },
  {
   "cell_type": "code",
   "execution_count": null,
   "id": "b274488e",
   "metadata": {
    "scrolled": true
   },
   "outputs": [],
   "source": [
    "%%time\n",
    "# train on source, test on target, alpha=1\n",
    "alpha = 1\n",
    "clf1, cm1, cm_unprotected1, cm_protected1 = utils.run_test(X_train_s[source], y_train_s[source], X_test_t[target], \n",
    "    y_test_t[target], X_td=X_train_t[target], alpha=alpha, max_depth=max_depth, min_cases=min_cases, \n",
    "    y_td=y_train_t[target],att_td=att_td)"
   ]
  },
  {
   "cell_type": "code",
   "execution_count": null,
   "id": "5146b6d1",
   "metadata": {
    "scrolled": true
   },
   "outputs": [],
   "source": [
    "%%time\n",
    "# train on source, test on target, alpha=0\n",
    "alpha = 0\n",
    "clf0, cm0, cm_unprotected0, cm_protected0 = utils.run_test(X_train_s[source], y_train_s[source], X_test_t[target], \n",
    "    y_test_t[target], X_td=X_train_t[target], alpha=alpha, max_depth=max_depth, min_cases=min_cases, \n",
    "    y_td=y_train_t[target],att_td=att_td)"
   ]
  },
  {
   "cell_type": "code",
   "execution_count": null,
   "id": "1e8bcfaf",
   "metadata": {},
   "outputs": [],
   "source": [
    "# compare accuracies\n",
    "from utils import cm_metrics\n",
    "\n",
    "cm_metrics(cm_t)[0], cm_metrics(cm_s)[0], cm_metrics(cm1)[0], cm_metrics(cm0)[0]"
   ]
  },
  {
   "cell_type": "code",
   "execution_count": null,
   "id": "698f0de8",
   "metadata": {},
   "outputs": [],
   "source": [
    "cm_t, cm_s, cm0"
   ]
  },
  {
   "cell_type": "code",
   "execution_count": null,
   "id": "349822f9",
   "metadata": {
    "scrolled": true
   },
   "outputs": [],
   "source": [
    "clf_t.tree"
   ]
  },
  {
   "cell_type": "code",
   "execution_count": null,
   "id": "8cc89ecd",
   "metadata": {
    "scrolled": true
   },
   "outputs": [],
   "source": [
    "clf_s.w_dist(), clf_s.tree"
   ]
  },
  {
   "cell_type": "code",
   "execution_count": null,
   "id": "aad1ef0f",
   "metadata": {
    "scrolled": true
   },
   "outputs": [],
   "source": [
    "clf0.w_dist(), clf0.tree"
   ]
  },
  {
   "cell_type": "code",
   "execution_count": null,
   "id": "cd258ef4",
   "metadata": {},
   "outputs": [],
   "source": []
  },
  {
   "cell_type": "code",
   "execution_count": null,
   "id": "44ee6cf9",
   "metadata": {},
   "outputs": [],
   "source": []
  },
  {
   "cell_type": "code",
   "execution_count": null,
   "id": "1f824806",
   "metadata": {},
   "outputs": [],
   "source": []
  },
  {
   "cell_type": "code",
   "execution_count": null,
   "id": "5147e327",
   "metadata": {},
   "outputs": [],
   "source": []
  },
  {
   "cell_type": "code",
   "execution_count": null,
   "id": "7a4fdfbd",
   "metadata": {},
   "outputs": [],
   "source": []
  },
  {
   "cell_type": "code",
   "execution_count": null,
   "id": "a5d21252",
   "metadata": {},
   "outputs": [],
   "source": []
  },
  {
   "cell_type": "code",
   "execution_count": null,
   "id": "6d3938bd",
   "metadata": {
    "scrolled": true
   },
   "outputs": [],
   "source": [
    "# synthetic data experiment: old stuff\n",
    "\n",
    "import numpy as np\n",
    "import pandas as pd\n",
    "\n",
    "def get_y_given_x(x, opt=0):\n",
    "    y = []\n",
    "    for v in x:\n",
    "        if v==1:\n",
    "            r = np.random.choice(np.arange(0, 2), p=[0.3+opt, 0.7-opt])\n",
    "        elif v==2:\n",
    "            r = np.random.choice(np.arange(0, 2), p=[0.4, 0.6])\n",
    "        elif v==3:\n",
    "            r = np.random.choice(np.arange(0, 2), p=[0.2, 0.8])\n",
    "        elif v==4:\n",
    "            r = np.random.choice(np.arange(0, 2), p=[0.1, 0.9])\n",
    "        elif v==5:\n",
    "            r = np.random.choice(np.arange(0, 2), p=[0.8, 0.2])\n",
    "        else:\n",
    "            r = np.random.choice(np.arange(0, 2), p=[0.9, 0.1])\n",
    "        y.append(r)\n",
    "    return np.array(y)\n",
    "n = 20000\n",
    "x = np.random.choice(np.arange(1, 7), size=n, p=[0.1, 0.05, 0.05, 0.2, 0.4, 0.2])\n",
    "y = get_y_given_x(x)\n",
    "df1 = pd.DataFrame({\"x\":x, \"y\":y})\n",
    "x = np.random.choice(np.arange(1, 7), size=n, p=[0.5, 0.1, 0.1, 0.1, 0.1, 0.1])\n",
    "y = get_y_given_x(x, opt=0.0)\n",
    "df2 = pd.DataFrame({\"x\":x, \"y\":y})"
   ]
  },
  {
   "cell_type": "code",
   "execution_count": null,
   "id": "bcbeb915",
   "metadata": {
    "scrolled": true
   },
   "outputs": [],
   "source": [
    "X_train_1, X_test_1, y_train_1, y_test_1 = utils.split_data(df1[[\"x\"]], df1[\"y\"])\n",
    "X_train_2, X_test_2, y_train_2, y_test_2 = utils.split_data(df2[[\"x\"]], df2[\"y\"])"
   ]
  },
  {
   "cell_type": "code",
   "execution_count": null,
   "id": "a8212ec1",
   "metadata": {},
   "outputs": [],
   "source": [
    "def checkatt2(att):\n",
    "    xs = X_train_1[att]\n",
    "    xt = X_train_2[att]\n",
    "    values = sorted(xs.unique())\n",
    "    ratios = []\n",
    "    for value in values:\n",
    "        cond = (xs==value) & (y_train_1==1)\n",
    "        ps = sum(cond)/sum(xs==value)\n",
    "        cond = (xt==value) & (y_train_2==1)\n",
    "        pt = sum(cond)/sum(xt==value)\n",
    "        ratio = ps/pt\n",
    "        ratios.append(ratio)\n",
    "        print(value, ps, pt, ratio)\n",
    "    print(np.mean(ratios), np.std(ratios))\n",
    "\n",
    "checkatt2('x')"
   ]
  },
  {
   "cell_type": "code",
   "execution_count": null,
   "id": "43f9cb1a",
   "metadata": {
    "scrolled": true
   },
   "outputs": [],
   "source": [
    "from decision_tree_classifier import DecisionTreeClassifier\n",
    "from sklearn.metrics import confusion_matrix\n",
    "from utils import cm_metrics\n",
    "\n",
    "clf1 = DecisionTreeClassifier(max_depth)\n",
    "clf1.fit(X_train_1, y_train_1, [\"x\"], 1)\n",
    "y_pred = clf1.predict(X_test_2)\n",
    "cm1 = confusion_matrix(y_test_2, y_pred)\n",
    "print(cm_metrics(cm1))\n",
    "clf1.tree"
   ]
  },
  {
   "cell_type": "code",
   "execution_count": null,
   "id": "3ff54271",
   "metadata": {
    "scrolled": true
   },
   "outputs": [],
   "source": [
    "clf2 = DecisionTreeClassifier(max_depth)\n",
    "clf2.fit(X_train_1, y_train_1, [\"x\"], 0, X_train_2, y_train_2)\n",
    "y_pred = clf2.predict(X_test_2)\n",
    "cm2 = confusion_matrix(y_test_2, y_pred)\n",
    "print(cm_metrics(cm2))\n",
    "clf2.tree"
   ]
  },
  {
   "cell_type": "code",
   "execution_count": null,
   "id": "5ba07982",
   "metadata": {
    "scrolled": true
   },
   "outputs": [],
   "source": [
    "clf3 = DecisionTreeClassifier(max_depth)\n",
    "clf3.fit(X_train_2, y_train_2, [\"x\"], 1)\n",
    "y_pred = clf3.predict(X_test_2)\n",
    "cm3 = confusion_matrix(y_test_2, y_pred)\n",
    "print(cm_metrics(cm3))\n",
    "clf3.tree"
   ]
  },
  {
   "cell_type": "code",
   "execution_count": null,
   "id": "9384799a",
   "metadata": {},
   "outputs": [],
   "source": []
  },
  {
   "cell_type": "code",
   "execution_count": null,
   "id": "85b7781e",
   "metadata": {},
   "outputs": [],
   "source": []
  },
  {
   "cell_type": "code",
   "execution_count": null,
   "id": "d5d9fe82",
   "metadata": {},
   "outputs": [],
   "source": []
  },
  {
   "cell_type": "code",
   "execution_count": null,
   "id": "8962a8ff",
   "metadata": {},
   "outputs": [],
   "source": []
  }
 ],
 "metadata": {
  "kernelspec": {
   "display_name": "Python 3 (ipykernel)",
   "language": "python",
   "name": "python3"
  },
  "language_info": {
   "codemirror_mode": {
    "name": "ipython",
    "version": 3
   },
   "file_extension": ".py",
   "mimetype": "text/x-python",
   "name": "python",
   "nbconvert_exporter": "python",
   "pygments_lexer": "ipython3",
   "version": "3.9.7"
  }
 },
 "nbformat": 4,
 "nbformat_minor": 5
}
